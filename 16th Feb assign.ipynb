{
 "cells": [
  {
   "cell_type": "code",
   "execution_count": null,
   "id": "6e571d98",
   "metadata": {},
   "outputs": [],
   "source": [
    "Q1. What is a database? Differentiate between SQL and NoSQL databases."
   ]
  },
  {
   "cell_type": "code",
   "execution_count": null,
   "id": "e4806740",
   "metadata": {},
   "outputs": [],
   "source": [
    "A database is a structured collection of data that is stored and managed in a way that allows efficient access, retrieval, and\n",
    "modification. Databases are commonly used in applications such as web and mobile applications, business systems, and scientific\n",
    "research.\n",
    "\n",
    "SQL (Structured Query Language) databases are relational databases that use SQL to manipulate and query data. They are based on\n",
    "a table structure, where data is organized into rows and columns. SQL databases are best suited for structured data, such as\n",
    "financial information or inventory management systems, and are characterized by their ability to enforce data integrity and \n",
    "relationships between tables. Some popular examples of SQL databases include MySQL, Oracle, and Microsoft SQL Server.\n",
    "\n",
    "NoSQL databases are non-relational databases that do not use a table structure. They are designed to handle\n",
    "unstructured data, such as social media posts or sensor data, and are known for their scalability and flexibility. NoSQL \n",
    "databases are schema-less, which means that they do not require a predefined data model. Instead, they allow for dynamic schema\n",
    "changes as data changes over time. Some popular examples of NoSQL databases include MongoDB, Cassandra, and Couchbase."
   ]
  },
  {
   "cell_type": "code",
   "execution_count": null,
   "id": "7e3a0753",
   "metadata": {},
   "outputs": [],
   "source": [
    "Q2. What is DDL? Explain why CREATE, DROP, ALTER, and TRUNCATE are used with an example."
   ]
  },
  {
   "cell_type": "code",
   "execution_count": null,
   "id": "472120e7",
   "metadata": {},
   "outputs": [],
   "source": [
    "DDL stands for Data Definition Language, which is a set of SQL statements used to define and manipulate the structure of a \n",
    "database. DDL statements are used to create, modify, and delete database objects, such as tables, indexes, and views.\n",
    "\n",
    "Here are some examples of commonly used DDL statements:\n",
    "\n",
    "CREATE: The CREATE statement is used to create a new database object, such as a table, view, or index. For example, the \n",
    "    following SQL statement creates a new table called \"customers\" with columns for customer ID, name, and email address:\n",
    " CREATE TABLE customers (\n",
    "    customer_id INT PRIMARY KEY,\n",
    "    name VARCHAR(50),\n",
    "    email VARCHAR(100));\n",
    "       \n",
    "        \n",
    "DROP: The DROP statement is used to delete a database object, such as a table or view. For example, the following SQL statement\n",
    "    deletes the \"customers\" table created in the previous example:\n",
    "                \n",
    "DROP TABLE customers;\n",
    "\n",
    "ALTER: The ALTER statement is used to modify the structure of an existing database object, such as a table or column. For \n",
    "\n",
    "example, the following SQL statement adds a new column called \"phone_number\" to the \"customers\" table:\n",
    "\n",
    "    ALTER TABLE customers ADD phone_number VARCHAR(20);\n",
    "\n",
    "TRUNCATE: The TRUNCATE statement is used to delete all data from a table while preserving the table structure. For example, the\n",
    "    following SQL statement deletes all rows from the \"customers\" table:\n",
    "        TRUNCATE TABLE customers;\n",
    "\n",
    "        \n",
    "{ In summary, DDL statements are used to define and manipulate the structure of a database. The CREATE statement is used\n",
    "to create new database objects, the DROP statement is used to delete database objects, the ALTER statement is used to \n",
    "modify the structure of existing objects, and the TRUNCATE statement is used to delete all data from a table while\n",
    "preserving the table structure.}"
   ]
  },
  {
   "cell_type": "code",
   "execution_count": null,
   "id": "e1d66ce8",
   "metadata": {},
   "outputs": [],
   "source": [
    "Q3. What is DML? Explain INSERT, UPDATE, and DELETE with an example."
   ]
  },
  {
   "cell_type": "code",
   "execution_count": null,
   "id": "f42c73b3",
   "metadata": {},
   "outputs": [],
   "source": [
    "DML stands for Data Manipulation Language, which is a set of SQL statements used to modify data in a database. DML statements\n",
    "are used to insert, update, and delete data from database tables.\n",
    "\n",
    "Here are some examples of commonly used DML statements:\n",
    "\n",
    "1. INSERT: The INSERT statement is used to insert new data into a table. For example, the following SQL statement inserts a new\n",
    "    row into the \"customers\" table:\n",
    "\n",
    "INSERT INTO customers (customer_id, name, email) VALUES (1, 'John Smith', 'john.smith@example.com');\n",
    "This statement specifies the name of the table, the names of the columns to insert data into, and the values to insert.\n",
    "\n",
    "2. UPDATE: The UPDATE statement is used to modify existing data in a table. For example, the following SQL statement updates \n",
    "    the email address for the customer with ID 1:\n",
    "        \n",
    "UPDATE customers SET email = 'john.smith.updated@example.com' WHERE customer_id = 1;\n",
    "This statement specifies the name of the table to update, the column to modify, the new value to set, and the condition to \n",
    "identify which rows to update.\n",
    "\n",
    "3. DELETE: The DELETE statement is used to delete data from a table. For example, the following SQL statement deletes the row \n",
    "    for the customer with ID 1:\n",
    "\n",
    "DELETE FROM customers WHERE customer_id = 1;\n",
    "This statement specifies the name of the table to delete from and the condition to identify which rows to delete.\n",
    "\n",
    "{In summary, DML statements are used to modify data in a database. The INSERT statement is used to insert new data into a table,\n",
    "the UPDATE statement is used to modify existing data, and the DELETE statement is used to delete data from a table.}"
   ]
  },
  {
   "cell_type": "code",
   "execution_count": null,
   "id": "a8ad44c3",
   "metadata": {},
   "outputs": [],
   "source": [
    "Q4. What is DQL? Explain SELECT with an example."
   ]
  },
  {
   "cell_type": "code",
   "execution_count": null,
   "id": "4349ab6b",
   "metadata": {},
   "outputs": [],
   "source": [
    "DQL stands for Data Query Language, which is a sublanguage of SQL (Structured Query Language) used to retrieve data from a \n",
    "relational database. DQL allows users to retrieve data based on specific criteria and manipulate that data as needed.\n",
    "\n",
    "The most commonly used DQL command is SELECT. The SELECT statement is used to retrieve data from one or more tables in a\n",
    "database. Here's an example of a SELECT statement:\n",
    "\n",
    "SELECT * FROM customers WHERE age > 30;\n",
    "\n",
    "\n",
    "This statement retrieves all columns (indicated by the asterisk) from the \"customers\" table where the \"age\" column is greater \n",
    "than 30. The result would be a list of all customers who are over 30 years old.\n",
    "\n",
    "The SELECT statement can be customized to retrieve specific columns or aggregate data. Here's an example that retrieves only\n",
    "the customer names and the total amount they have spent:\n",
    "\n",
    "SELECT name, SUM(total_spent) AS total_amount FROM customers GROUP BY name;\n",
    "\n",
    "This statement selects the \"name\" column and the total amount spent (which is calculated using the SUM function and labeled as\n",
    "\"total_amount\" using the AS keyword) from the \"customers\" table. The data is then grouped by name using the GROUP BY keyword,\n",
    "so that each customer's total amount spent is listed separately."
   ]
  },
  {
   "cell_type": "code",
   "execution_count": null,
   "id": "4dc6afaf",
   "metadata": {},
   "outputs": [],
   "source": [
    "Q5. Explain Primary Key and Foreign Key."
   ]
  },
  {
   "cell_type": "code",
   "execution_count": null,
   "id": "f5a7f4f9",
   "metadata": {},
   "outputs": [],
   "source": [
    "Primary Key:\n",
    "A primary key is a column or group of columns that uniquely identifies each row in a table. It is a constraint that enforces \n",
    "the uniqueness and the non-nullability of the values in a table. A table can have only one primary key. Primary keys are used\n",
    "to ensure that each row in a table can be uniquely identified, which is essential for data integrity and to establish \n",
    "relationships between tables.\n",
    "\n",
    "Foreign Key:\n",
    "A foreign key is a column or group of columns in a table that refers to the primary key of another table. It establishes a link \n",
    "between two tables and is used to enforce referential integrity. The foreign key ensures that the values in the referencing \n",
    "table (also known as the child table) correspond to values in the referenced table (also known as the parent table).\n",
    "\n",
    "For example, if we have two tables, one for customers and another for orders, the order table might have a foreign key that \n",
    "refers to the primary key of the customer table. This would allow us to link orders to specific customers and ensure that\n",
    "we can retrieve all orders associated with a particular customer.\n",
    "\n",
    "In summary, the primary key is used to uniquely identify each row in a table, while the foreign key is used to establish a \n",
    "relationship between two tables by referring to the primary key of another table."
   ]
  },
  {
   "cell_type": "code",
   "execution_count": null,
   "id": "2aece573",
   "metadata": {},
   "outputs": [],
   "source": [
    "Q6. Write a python code to connect MySQL to python. Explain the cursor() and execute() method."
   ]
  },
  {
   "cell_type": "code",
   "execution_count": null,
   "id": "f44852d0",
   "metadata": {},
   "outputs": [],
   "source": [
    "To connect to a MySQL database using Python, we need to install the mysql-connector-python module. Here is an example code to\n",
    "connect MySQL to Python:\n",
    "\n",
    "import mysql.connector\n",
    "\n",
    "# Connect to the database\n",
    "mydb = mysql.connector.connect(\n",
    "  host=\"localhost\",\n",
    "  user=\"username\",\n",
    "  password=\"password\",\n",
    "  database=\"databasename\"\n",
    ")\n",
    "\n",
    "# Create a cursor object\n",
    "mycursor = mydb.cursor()\n",
    "\n",
    "# Execute a SQL query\n",
    "mycursor.execute(\"SELECT * FROM tablename\")\n",
    "\n",
    "# Fetch the results\n",
    "result = mycursor.fetchall()\n",
    "\n",
    "# Print the results\n",
    "for row in result:\n",
    "  print(row)\n",
    "In the above code, we first import the mysql.connector module and then use it to connect to the database by providing the \n",
    "necessary details such as hostname, username, password, and database name. Once we have successfully connected to the database,\n",
    "we create a cursor object using the cursor() method. The cursor object allows us to execute SQL queries and fetch results.\n",
    "\n",
    "The execute() method of the cursor object is used to execute a SQL query. We can pass the SQL query as a string argument to \n",
    "this method. The execute() method returns the number of rows affected by the query. In the example code, we are selecting all\n",
    "the rows from a table using the SQL query SELECT * FROM tablename.\n",
    "\n",
    "After executing the query, we use the fetchall() method of the cursor object to fetch all the results. The fetchall() method \n",
    "returns a list of tuples, where each tuple represents a row from the table. Finally, we iterate over the results and print each\n",
    "row.\n",
    "\n",
    "In summary, the cursor() method creates a cursor object that allows us to execute SQL queries, while the execute() method is\n",
    "used to execute a SQL query."
   ]
  },
  {
   "cell_type": "code",
   "execution_count": null,
   "id": "f1071dfd",
   "metadata": {},
   "outputs": [],
   "source": [
    "Q7. Give the order of execution of SQL clauses in an SQL query."
   ]
  },
  {
   "cell_type": "code",
   "execution_count": null,
   "id": "273f7c2b",
   "metadata": {},
   "outputs": [],
   "source": [
    "The order of execution of SQL clauses in an SQL query is as follows:\n",
    "\n",
    "1.FROM clause: specifies the table or tables from which to retrieve data.\n",
    "\n",
    "2.WHERE clause: filters the rows from the tables specified in the FROM clause based on the specified conditions.\n",
    "\n",
    "3.GROUP BY clause: groups the rows that have the same values in the specified columns.\n",
    "\n",
    "4.HAVING clause: filters the groups produced by the GROUP BY clause based on the specified conditions.\n",
    "\n",
    "5.SELECT clause: selects the columns to be retrieved from the tables and can also perform calculations and transformations on \n",
    "    the data.\n",
    "\n",
    "6.DISTINCT clause: removes duplicates from the result set.\n",
    "\n",
    "7.ORDER BY clause: sorts the rows in the result set based on the specified columns and sort direction.\n",
    "\n",
    "8.LIMIT/OFFSET clause: limits the number of rows returned and allows for pagination of the result set.\n",
    "\n",
    "It's important to note that not all SQL queries will use every clause, and some clauses may be combined or omitted depending \n",
    "on the specific query being executed."
   ]
  },
  {
   "cell_type": "code",
   "execution_count": null,
   "id": "9487ab61",
   "metadata": {},
   "outputs": [],
   "source": []
  }
 ],
 "metadata": {
  "kernelspec": {
   "display_name": "Python 3 (ipykernel)",
   "language": "python",
   "name": "python3"
  },
  "language_info": {
   "codemirror_mode": {
    "name": "ipython",
    "version": 3
   },
   "file_extension": ".py",
   "mimetype": "text/x-python",
   "name": "python",
   "nbconvert_exporter": "python",
   "pygments_lexer": "ipython3",
   "version": "3.9.13"
  }
 },
 "nbformat": 4,
 "nbformat_minor": 5
}
